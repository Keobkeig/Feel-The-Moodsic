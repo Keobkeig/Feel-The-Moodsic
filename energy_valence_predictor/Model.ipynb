{
 "cells": [
  {
   "cell_type": "code",
   "execution_count": 1,
   "metadata": {},
   "outputs": [],
   "source": [
    "from mpl_toolkits.mplot3d import Axes3D\n",
    "from sklearn.preprocessing import StandardScaler\n",
    "import matplotlib.pyplot as plt # plotting\n",
    "import numpy as np # linear algebra\n",
    "import os # accessing directory structure\n",
    "import pandas as pd # data processing, CSV file I/O (e.g. pd.read_csv)"
   ]
  },
  {
   "cell_type": "code",
   "execution_count": 3,
   "metadata": {},
   "outputs": [
    {
     "name": "stdout",
     "output_type": "stream",
     "text": [
      "There are 1000 rows and 17 columns\n"
     ]
    }
   ],
   "source": [
    "nRowsRead = 1000 # specify 'None' if want to read whole file\n",
    "# SpotifyAudioFeaturesApril2019.csv has 130663 rows in reality, but we are only loading/previewing the first 1000 rows\n",
    "df1 = pd.read_csv('SpotifyAudioFeaturesApril2019.csv', delimiter=',', nrows = nRowsRead)\n",
    "df1.dataframeName = 'SpotifyAudioFeaturesApril2019.csv'\n",
    "nRow, nCol = df1.shape\n",
    "print(f'There are {nRow} rows and {nCol} columns')"
   ]
  },
  {
   "cell_type": "code",
   "execution_count": 5,
   "metadata": {},
   "outputs": [
    {
     "name": "stdout",
     "output_type": "stream",
     "text": [
      "There are 1000 rows and 17 columns\n"
     ]
    }
   ],
   "source": [
    "nRowsRead = 1000 # specify 'None' if want to read whole file\n",
    "# SpotifyAudioFeaturesNov2018.csv has 116372 rows in reality, but we are only loading/previewing the first 1000 rows\n",
    "df2 = pd.read_csv('SpotifyAudioFeaturesNov2018.csv', delimiter=',', nrows = nRowsRead)\n",
    "df2.dataframeName = 'SpotifyAudioFeaturesNov2018.csv'\n",
    "nRow, nCol = df2.shape\n",
    "print(f'There are {nRow} rows and {nCol} columns')\n"
   ]
  },
  {
   "cell_type": "code",
   "execution_count": null,
   "metadata": {},
   "outputs": [],
   "source": []
  }
 ],
 "metadata": {
  "language_info": {
   "name": "python"
  }
 },
 "nbformat": 4,
 "nbformat_minor": 2
}
